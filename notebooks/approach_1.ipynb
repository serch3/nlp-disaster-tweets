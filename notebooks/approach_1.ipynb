{
 "cells": [
  {
   "cell_type": "markdown",
   "metadata": {},
   "source": [
    "## Natural Language Processing with Disaster Tweets\n",
    "\n",
    "### Approach: Multinomial Naive Bayes + TF-IDF"
   ]
  },
  {
   "cell_type": "markdown",
   "metadata": {},
   "source": [
    "---\n",
    "### Data Analysis\n",
    "\n",
    "- Dataset size: \n",
    "    - training: 7503 unique values\n",
    "    - testing: 3263 unique values\n",
    "- Problem Nature:\n",
    "    - Tweets are short: 280 characters max.\n",
    "    - Vocabulary can be noisy: hashtags, misspellings, slang, abbreviations.  \n",
    "    - Contextual clues matter: tweets could be sarcastic/humorous."
   ]
  },
  {
   "cell_type": "markdown",
   "metadata": {},
   "source": [
    "\n",
    "---\n",
    "#### Dependencies"
   ]
  },
  {
   "cell_type": "code",
   "execution_count": 1,
   "metadata": {},
   "outputs": [],
   "source": [
    "# pip install pandas numpy scikit-learn nltk ftfy matplotlib html\n",
    "\n",
    "import pandas as pd\n",
    "import numpy as np\n",
    "from sklearn.feature_extraction.text import TfidfVectorizer\n",
    "from sklearn.naive_bayes import MultinomialNB\n",
    "from sklearn.model_selection import train_test_split, GridSearchCV\n",
    "from sklearn.metrics import accuracy_score, classification_report, confusion_matrix\n",
    "\n",
    "\n",
    "# ignore warnings\n",
    "import warnings\n",
    "warnings.filterwarnings(\"ignore\")"
   ]
  },
  {
   "cell_type": "markdown",
   "metadata": {},
   "source": [
    "#### Pre-processing"
   ]
  },
  {
   "cell_type": "code",
   "execution_count": 2,
   "metadata": {},
   "outputs": [],
   "source": [
    "import re\n",
    "import html\n",
    "# import nltk\n",
    "# from nltk.corpus import stopwords\n",
    "# from nltk.stem import WordNetLemmatizer\n",
    "# from nltk.stem import PorterStemmer\n",
    "from ftfy import fix_text\n",
    "# from emoji import demojize\n",
    "\n",
    "# nltk.download('stopwords')\n",
    "# nltk.download('wordnet')\n",
    "\n",
    "# lemmatizer = WordNetLemmatizer()\n",
    "# stemmer = PorterStemmer()\n",
    "# stop_words = set(stopwords.words('english'))\n",
    "\n",
    "def clean_text(text):\n",
    "    # Fix broken unicode errors (e.g. \"Û÷Institute\" and \"PeaceÛª\")\n",
    "    text = fix_text(text)\n",
    "\n",
    "    # remove URLs\n",
    "    text = re.sub(r'https?://\\S+|www\\.\\S+', '', text)\n",
    "\n",
    "    # Decode HTML entities (e.g. &amp;)\n",
    "    text = html.unescape(text)\n",
    "\n",
    "    # REDUCES ACCURACY\n",
    "    # # demojize emojis :emoji_face:\n",
    "    # text = demojize(text)\n",
    "    #text = re.sub(r'[^a-zA-Z\\s:]', '', text)\n",
    "\n",
    "    # Remove special characters, numbers, and punctuation\n",
    "    text = re.sub(r'[^a-zA-Z\\s]', '', text) \n",
    "\n",
    "    # Convert to lowercase\n",
    "    text = text.lower()\n",
    "\n",
    "    # REDUCES ACCURACY (likely doesn't play well with TF-IDF)\n",
    "    # # Remove stop words \n",
    "    # text = ' '.join(word for word in text.split() if word not in stop_words)\n",
    "\n",
    "    # # Apply stemming\n",
    "    # text = ' '.join(stemmer.stem(word) for word in text.split())\n",
    "\n",
    "    # # Apply lemmatization\n",
    "    # text = ' '.join(lemmatizer.lemmatize(word) for word in text.split())\n",
    "\n",
    "    # Replace multiple spaces/tabs/newlines with a single space\n",
    "    text = re.sub(r'\\s+', ' ', text).strip()\n",
    "\n",
    "    return text\n",
    "\n",
    "def preprocess_data(df):\n",
    "    # Fill missing values in 'keyword' and 'location' columns with empty strings\n",
    "    df['keyword'].fillna('', inplace=True)\n",
    "    df['location'].fillna('', inplace=True)\n",
    "\n",
    "    # Combine [text, keyword, location] columns into [combined_text] column\n",
    "    df['combined_text'] = df['text'] + \" \" + df['keyword'] + \" \" + df['location']\n",
    "    \n",
    "    # Clean the combined text\n",
    "    df['combined_text'] = df['combined_text'].apply(clean_text)\n",
    "    \n",
    "    # Create a new feature 'text_length' to store the length of the original 'text' column\n",
    "    df['text_length'] = df['text'].apply(len)\n",
    "    \n",
    "    # Return the modified DataFrame\n",
    "    return df"
   ]
  },
  {
   "cell_type": "markdown",
   "metadata": {},
   "source": [
    "#### Processing"
   ]
  },
  {
   "cell_type": "code",
   "execution_count": 9,
   "metadata": {},
   "outputs": [],
   "source": [
    "# Load the datasets\n",
    "train_df = pd.read_csv('../data/train.csv')\n",
    "test_df = pd.read_csv('../data/test.csv')"
   ]
  },
  {
   "cell_type": "code",
   "execution_count": 10,
   "metadata": {},
   "outputs": [
    {
     "name": "stdout",
     "output_type": "stream",
     "text": [
      "Original: Devil May Cry 4 Special Edition Vergil Vs Agnus [Window] Mission 6 - DMD - No Damage By LeedStraiF\n",
      "https://t.co/ZhRTcVU0Ff\n",
      "Cleaned:  devil may cry special edition vergil vs agnus window mission dmd no damage by leedstraif\n",
      "--------------------------------------------------------------------------------\n",
      "Original: New illustration for the L.A. Times: http://t.co/qYn6KxJSTl #illustration #subway\n",
      "Cleaned:  new illustration for the la times illustration subway\n",
      "--------------------------------------------------------------------------------\n",
      "Original: A Time-Lapse Map of Every Nuclear Explosion Since 1945 - by Isao Hashimoto #War #atomicbomb \n",
      "https://t.co/V0t8H4Iecc\n",
      "Cleaned:  a timelapse map of every nuclear explosion since by isao hashimoto war atomicbomb\n",
      "--------------------------------------------------------------------------------\n",
      "Original: @VileLunar I trickshot with a regular controller fucking infinite fading is so harm &gt;:(\n",
      "Cleaned:  vilelunar i trickshot with a regular controller fucking infinite fading is so harm\n",
      "--------------------------------------------------------------------------------\n"
     ]
    }
   ],
   "source": [
    "# Preview of cleaned tweets from the training dataset\n",
    "sample_tweets = train_df.sample(4)\n",
    "for _, tweet in sample_tweets.iterrows():\n",
    "    original = tweet['text']\n",
    "    cleaned = clean_text(original)\n",
    "    \n",
    "    print(f\"Original: {original}\")\n",
    "    print(f\"Cleaned:  {cleaned}\")\n",
    "    print(\"-\" * 80)"
   ]
  },
  {
   "cell_type": "markdown",
   "metadata": {},
   "source": [
    "---"
   ]
  },
  {
   "cell_type": "markdown",
   "metadata": {},
   "source": [
    "#### Processing"
   ]
  },
  {
   "cell_type": "code",
   "execution_count": 11,
   "metadata": {},
   "outputs": [
    {
     "name": "stdout",
     "output_type": "stream",
     "text": [
      "Best alpha: 0.5\n",
      "Validation Accuracy: 0.8174655285620486\n",
      "              precision    recall  f1-score   support\n",
      "\n",
      "           0       0.80      0.91      0.85       869\n",
      "           1       0.85      0.69      0.77       654\n",
      "\n",
      "    accuracy                           0.82      1523\n",
      "   macro avg       0.83      0.80      0.81      1523\n",
      "weighted avg       0.82      0.82      0.81      1523\n",
      "\n",
      "Confusion Matrix:\n",
      " [[792  77]\n",
      " [201 453]]\n"
     ]
    }
   ],
   "source": [
    "# Preprocess the data\n",
    "train_df = preprocess_data(train_df)\n",
    "test_df = preprocess_data(test_df)\n",
    "\n",
    "# Features and labels\n",
    "y = train_df['target']\n",
    "\n",
    "# Text vectorizer (TF-IDF)\n",
    "vectorizer = TfidfVectorizer(\n",
    "    analyzer='word',\n",
    "    ngram_range=(1, 2),\n",
    "    stop_words='english',\n",
    "    max_features=10000\n",
    ")\n",
    "\n",
    "# Vectorize the training data\n",
    "X_text = vectorizer.fit_transform(train_df['combined_text'])\n",
    "\n",
    "# Split for validation\n",
    "X_train, X_val, y_train, y_val = train_test_split(X_text, y, test_size=0.2, random_state=42, stratify=y)\n",
    "\n",
    "# perform grid search for best alpha\n",
    "param_grid = {'alpha': [0.1, 0.3, 0.5, 1.0, 2.0]}\n",
    "grid = GridSearchCV(MultinomialNB(), param_grid=param_grid, cv=5, scoring='accuracy')\n",
    "grid.fit(X_train, y_train)\n",
    "\n",
    "best_alpha = grid.best_params_['alpha']\n",
    "print(f\"Best alpha: {best_alpha}\")\n",
    "\n",
    "# Final model\n",
    "model = MultinomialNB(alpha=best_alpha)\n",
    "model.fit(X_train, y_train)\n",
    "\n",
    "# Evaluate\n",
    "y_pred = model.predict(X_val)\n",
    "print(\"Validation Accuracy:\", accuracy_score(y_val, y_pred))\n",
    "\n",
    "# (https://medium.com/hugo-ferreiras-blog/confusion-matrix-and-other-metrics-in-machine-learning-894688cb1c0a)\n",
    "print(classification_report(y_val, y_pred))\n",
    "print(\"Confusion Matrix:\\n\", confusion_matrix(y_val,  y_pred))"
   ]
  },
  {
   "cell_type": "markdown",
   "metadata": {},
   "source": [
    "#### Feature Importance Extraction: Top positive and negative words"
   ]
  },
  {
   "cell_type": "code",
   "execution_count": 12,
   "metadata": {},
   "outputs": [
    {
     "name": "stdout",
     "output_type": "stream",
     "text": [
      "Top Positive Words:\n",
      "debris: 3.4482\n",
      "derailment: 3.2949\n",
      "outbreak: 3.2571\n",
      "hiroshima: 3.2408\n",
      "bomber: 3.0411\n",
      "suicide bomber: 3.0264\n",
      "legionnaires: 2.9607\n",
      "wreckage: 2.9533\n",
      "severe: 2.9427\n",
      "spill: 2.8415\n",
      "\n",
      "Top Negative Words:\n",
      "aftershock: -3.1538\n",
      "wrecked: -2.7715\n",
      "ruin: -2.7182\n",
      "electrocute: -2.6890\n",
      "stretcher: -2.6757\n",
      "harm: -2.4753\n",
      "bags: -2.4197\n",
      "bodybags: -2.4054\n",
      "blazing: -2.4044\n",
      "blizzard: -2.3612\n"
     ]
    },
    {
     "data": {
      "image/png": "[encoded data removed]",
      "text/plain": [
       "<Figure size 1000x400 with 1 Axes>"
      ]
     },
     "metadata": {},
     "output_type": "display_data"
    },
    {
     "data": {
      "image/png": "[encoded data removed]",
      "text/plain": [
       "<Figure size 1000x400 with 1 Axes>"
      ]
     },
     "metadata": {},
     "output_type": "display_data"
    }
   ],
   "source": [
    "import matplotlib.pyplot as plt\n",
    "\n",
    "# Extract feature names from the vectorizer (https://stackoverflow.com/questions/50526898/how-to-get-feature-importance-in-naive-bayes)\n",
    "feature_names = vectorizer.get_feature_names_out()\n",
    "\n",
    "# Get the log probabilities for each class\n",
    "log_probabilities = model.feature_log_prob_\n",
    "\n",
    "# Calculate the difference between the log probabilities of the two classes\n",
    "coefficients = log_probabilities[1] - log_probabilities[0]\n",
    "\n",
    "# Get top positive and negative words\n",
    "top_positive_idx = np.argsort(coefficients)[-10:][::-1]\n",
    "top_negative_idx = np.argsort(coefficients)[:10]\n",
    "\n",
    "top_positive_words = [(feature_names[i], coefficients[i]) for i in top_positive_idx]\n",
    "top_negative_words = [(feature_names[i], coefficients[i]) for i in top_negative_idx]\n",
    "\n",
    "# unpack\n",
    "positive_words, positive_scores = zip(*top_positive_words)\n",
    "negative_words, negative_scores = zip(*top_negative_words)\n",
    "\n",
    "print(\"Top Positive Words:\")\n",
    "for word, score in top_positive_words:\n",
    "    print(f\"{word}: {score:.4f}\")\n",
    "\n",
    "print(\"\\nTop Negative Words:\")\n",
    "for word, score in top_negative_words:\n",
    "    print(f\"{word}: {score:.4f}\")\n",
    "\n",
    "# Plot top positive words\n",
    "plt.figure(figsize=(10, 4))\n",
    "plt.barh(positive_words[::-1], positive_scores[::-1], color='green')\n",
    "plt.title('Top 10 Positive Words (Most Indicative of Disaster)')\n",
    "plt.xlabel('Log Probability Difference')\n",
    "plt.tight_layout()\n",
    "plt.show()\n",
    "\n",
    "# Plot top negative words\n",
    "plt.figure(figsize=(10, 4))\n",
    "plt.barh(negative_words[::-1], negative_scores[::-1], color='red')\n",
    "plt.title('Top 10 Negative Words (Most Indicative of Non-Disaster)')\n",
    "plt.xlabel('Log Probability Difference')\n",
    "plt.tight_layout()\n",
    "plt.show()"
   ]
  },
  {
   "cell_type": "markdown",
   "metadata": {},
   "source": [
    "---\n",
    "#### Submission"
   ]
  },
  {
   "cell_type": "code",
   "execution_count": 13,
   "metadata": {},
   "outputs": [
    {
     "name": "stdout",
     "output_type": "stream",
     "text": [
      "Submission saved as ../results/ap_1.csv\n"
     ]
    }
   ],
   "source": [
    "# vectize test data\n",
    "X_test_text = vectorizer.transform(test_df['combined_text'])\n",
    "\n",
    "# Predict and save\n",
    "test_predictions = model.predict(X_test_text)\n",
    "\n",
    "submission = pd.DataFrame({\n",
    "    \"id\": test_df[\"id\"],\n",
    "    \"target\": test_predictions\n",
    "})\n",
    "\n",
    "file_name = \"../results/ap_1.csv\"\n",
    "submission.to_csv(file_name, index=False)\n",
    "print(f\"Submission saved as {file_name}\")"
   ]
  }
 ],
 "metadata": {
  "kernelspec": {
   "display_name": "Python 3",
   "language": "python",
   "name": "python3"
  },
  "language_info": {
   "codemirror_mode": {
    "name": "ipython",
    "version": 3
   },
   "file_extension": ".py",
   "mimetype": "text/x-python",
   "name": "python",
   "nbconvert_exporter": "python",
   "pygments_lexer": "ipython3",
   "version": "3.13.2"
  }
 },
 "nbformat": 4,
 "nbformat_minor": 2
}
